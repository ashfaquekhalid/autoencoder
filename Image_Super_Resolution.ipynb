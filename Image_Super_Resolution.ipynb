{
  "nbformat": 4,
  "nbformat_minor": 0,
  "metadata": {
    "kernelspec": {
      "display_name": "Python 2",
      "language": "python",
      "name": "python2"
    },
    "language_info": {
      "codemirror_mode": {
        "name": "ipython",
        "version": 2
      },
      "file_extension": ".py",
      "mimetype": "text/x-python",
      "name": "python",
      "nbconvert_exporter": "python",
      "pygments_lexer": "ipython2",
      "version": "2.7.17"
    },
    "colab": {
      "name": "Learner_Notebook_Image_Super_Resolution.ipynb",
      "provenance": []
    }
  },
  "cells": [
    {
      "cell_type": "markdown",
      "metadata": {
        "id": "Gj0cu0rOUdhX",
        "colab_type": "text"
      },
      "source": [
        "<a href=\"https://www.rhyme.com\"> <img src=\"https://www.rhyme.com/assets/img/logo-dark.png\" alt=\"Header\" style=\"width: 100px;\"/> </a>\n",
        "<h1 align=center> Image Super Resolution using Autoencoders</h1>"
      ]
    },
    {
      "cell_type": "markdown",
      "metadata": {
        "id": "rtXA_BalUdhZ",
        "colab_type": "text"
      },
      "source": [
        " "
      ]
    },
    {
      "cell_type": "markdown",
      "metadata": {
        "id": "d0D_uzhGUdha",
        "colab_type": "text"
      },
      "source": [
        "<img src=\"images/high_res_v_low_res.jpg\" width=550px>"
      ]
    },
    {
      "cell_type": "markdown",
      "metadata": {
        "id": "I7tSztS2Udhb",
        "colab_type": "text"
      },
      "source": [
        "## Task 1: Project Overview and Import Libraries"
      ]
    },
    {
      "cell_type": "code",
      "metadata": {
        "id": "clt94bguUdhd",
        "colab_type": "code",
        "outputId": "4481bbf5-a4b0-4e1c-a74d-edf67649fab5",
        "colab": {}
      },
      "source": [
        "import os\n",
        "import re\n",
        "from scipy import ndimage, misc\n",
        "from skimage.transform import resize, rescale\n",
        "from matplotlib import pyplot\n",
        "import matplotlib.pyplot as plt\n",
        "import numpy as np\n",
        "np.random.seed(0)\n",
        "\n",
        "from tensorflow.keras.layers import Input, Dense, Conv2D, MaxPooling2D, Dropout\n",
        "from tensorflow.keras.layers import Conv2DTranspose, UpSampling2D, add\n",
        "from tensorflow.keras.models import Model\n",
        "from tensorflow.keras import regularizers\n",
        "import tensorflow as tf\n",
        "print(tf.__version__)"
      ],
      "execution_count": 0,
      "outputs": [
        {
          "output_type": "stream",
          "text": [
            "2.1.0\n"
          ],
          "name": "stdout"
        }
      ]
    },
    {
      "cell_type": "code",
      "metadata": {
        "id": "_-tpbusNUdhl",
        "colab_type": "code",
        "colab": {}
      },
      "source": [
        ""
      ],
      "execution_count": 0,
      "outputs": []
    },
    {
      "cell_type": "markdown",
      "metadata": {
        "id": "JwsO7DpzUdhp",
        "colab_type": "text"
      },
      "source": [
        "## Task 2: What are Autoencoders?"
      ]
    },
    {
      "cell_type": "markdown",
      "metadata": {
        "id": "K9osbTrRUdhq",
        "colab_type": "text"
      },
      "source": [
        "<img src=\"images/autoencoder.jpg\">\n",
        "Credit: Autoencoder Schema by <a href=\"https://blog.keras.io/img/ae/autoencoder_schema.jpg\">Francois Chollet, 2016</a>."
      ]
    },
    {
      "cell_type": "markdown",
      "metadata": {
        "id": "Ey0Ua_ZNUdhr",
        "colab_type": "text"
      },
      "source": [
        "<h4 align=center>Encoder Architecture</h4>\n",
        "<img src=\"images/encoder.png\" width=450px align=center>"
      ]
    },
    {
      "cell_type": "markdown",
      "metadata": {
        "id": "imKsHByhUdhr",
        "colab_type": "text"
      },
      "source": [
        "## Task 3: Build the Encoder"
      ]
    },
    {
      "cell_type": "code",
      "metadata": {
        "id": "5J3I6S_VUdhu",
        "colab_type": "code",
        "colab": {}
      },
      "source": [
        "input_img=Input(shape=(256, 256, 3))\n",
        "l1= Conv2D(64,(3,3), padding= 'same', activation= 'relu', activity_regularizer=regularizers.l1(10e-10))(input_img)\n",
        "l2= Conv2D(64,(3,3), padding= 'same', activation= 'relu', activity_regularizer=regularizers.l1(10e-10))(l1)\n",
        "l3= MaxPooling2D(padding= 'same')(l2)\n",
        "l4= Conv2D(128,(3,3), padding= 'same', activation= 'relu', activity_regularizer=regularizers.l1(10e-10))(l3)\n",
        "l5= Conv2D(128,(3,3), padding= 'same', activation= 'relu', activity_regularizer=regularizers.l1(10e-10))(l4)\n",
        "l6= MaxPooling2D(padding= 'same')(l5)\n",
        "l7= Conv2D(256,(3,3), padding= 'same', activation= 'relu', activity_regularizer=regularizers.l1(10e-10))(l6)\n",
        "encoder= Model(input_img,l7)"
      ],
      "execution_count": 0,
      "outputs": []
    },
    {
      "cell_type": "code",
      "metadata": {
        "id": "Nt9WJGRqUdhy",
        "colab_type": "code",
        "colab": {}
      },
      "source": [
        "encoder.summary()"
      ],
      "execution_count": 0,
      "outputs": []
    },
    {
      "cell_type": "markdown",
      "metadata": {
        "id": "pz-2HylFUdh2",
        "colab_type": "text"
      },
      "source": [
        "## Task 4: Build the Decoder to Complete the Network"
      ]
    },
    {
      "cell_type": "markdown",
      "metadata": {
        "id": "2iQLI4RfUdh3",
        "colab_type": "text"
      },
      "source": [
        "<img src=\"images/decoder.png\" width=450px>"
      ]
    },
    {
      "cell_type": "code",
      "metadata": {
        "id": "3TVEXkgqUdh4",
        "colab_type": "code",
        "colab": {}
      },
      "source": [
        "l8= UpSampling2D()(l7)\n",
        "l9= Conv2D(128,(3,3), padding= 'same', activation= 'relu', activity_regularizer=regularizers.l1(10e-10))(l8)\n",
        "l10= Conv2D(128,(3,3), padding= 'same', activation= 'relu', activity_regularizer=regularizers.l1(10e-10))(l9)\n",
        "l11= add([l5, l10])\n",
        "l12= UpSampling2D()(l11)\n",
        "l13= Conv2D(64,(3,3), padding= 'same', activation= 'relu', activity_regularizer=regularizers.l1(10e-10))(l12)\n",
        "l14= Conv2D(64,(3,3), padding= 'same', activation= 'relu', activity_regularizer=regularizers.l1(10e-10))(l13)\n",
        "l15= add([l2, l14])\n",
        "decoded= Conv2D(3,(3,3), padding= 'same', activation= 'relu', activity_regularizer=regularizers.l1(10e-10))(l15)\n",
        "autoencoder= Model(input_img, decoded)"
      ],
      "execution_count": 0,
      "outputs": []
    },
    {
      "cell_type": "code",
      "metadata": {
        "id": "y4FkjnJXUdh-",
        "colab_type": "code",
        "colab": {}
      },
      "source": [
        "autoencoder.summary()"
      ],
      "execution_count": 0,
      "outputs": []
    },
    {
      "cell_type": "code",
      "metadata": {
        "id": "Bjk-AibTUdiC",
        "colab_type": "code",
        "colab": {}
      },
      "source": [
        "autoencoder.compile(optimizer= 'adadelta', loss='mean_squared_error')"
      ],
      "execution_count": 0,
      "outputs": []
    },
    {
      "cell_type": "code",
      "metadata": {
        "id": "4qcg2RXQUdiG",
        "colab_type": "code",
        "colab": {}
      },
      "source": [
        ""
      ],
      "execution_count": 0,
      "outputs": []
    },
    {
      "cell_type": "markdown",
      "metadata": {
        "id": "svB88-HRUdiJ",
        "colab_type": "text"
      },
      "source": [
        "## Task 5: Create Dataset and Specify Training Routine"
      ]
    },
    {
      "cell_type": "code",
      "metadata": {
        "scrolled": true,
        "id": "qlftYcSDUdiK",
        "colab_type": "code",
        "colab": {}
      },
      "source": [
        "def train_batches(just_load_dataset=False):\n",
        "\n",
        "    batches = 256 \n",
        "\n",
        "    batch = 0 \n",
        "    batch_nb = 0 \n",
        "    max_batches = -1 \n",
        "    \n",
        "    ep = 4 \n",
        "\n",
        "    images = []\n",
        "    x_train_n = []\n",
        "    x_train_down = []\n",
        "    \n",
        "    x_train_n2 = [] \n",
        "    x_train_down2 = []\n",
        "    \n",
        "    for root, dirnames, filenames in os.walk(\"/home/rhyme/Desktop/Project/data/cars_train\"):\n",
        "        for filename in filenames:\n",
        "            if re.search(\"\\.(jpg|jpeg|JPEG|png|bmp|tiff)$\", filename):\n",
        "                if batch_nb == max_batches: \n",
        "                    return x_train_n2, x_train_down2\n",
        "                filepath = os.path.join(root, filename)\n",
        "                image = pyplot.imread(filepath)\n",
        "                if len(image.shape) > 2:\n",
        "                        \n",
        "                    image_resized = resize(image, (256, 256))\n",
        "                    x_train_n.append(image_resized)\n",
        "                    x_train_down.append(rescale(rescale(image_resized, 0.5), 2.0))\n",
        "                    batch += 1\n",
        "                    if batch == batches:\n",
        "                        batch_nb += 1\n",
        "\n",
        "                        x_train_n2 = np.array(x_train_n)\n",
        "                        x_train_down2 = np.array(x_train_down)\n",
        "                        \n",
        "                        if just_load_dataset:\n",
        "                            return x_train_n2, x_train_down2\n",
        "                        \n",
        "                        print('Training batch', batch_nb, '(', batches, ')')\n",
        "\n",
        "                        autoencoder.fit(x_train_down2, x_train_n2,\n",
        "                            epochs=ep,\n",
        "                            batch_size=10,\n",
        "                            shuffle=True,\n",
        "                            validation_split=0.15)\n",
        "                    \n",
        "                        x_train_n = []\n",
        "                        x_train_down = []\n",
        "                    \n",
        "                        batch = 0\n",
        "\n",
        "    return x_train_n2, x_train_down2"
      ],
      "execution_count": 0,
      "outputs": []
    },
    {
      "cell_type": "code",
      "metadata": {
        "id": "l0gQ4r_-UdiQ",
        "colab_type": "code",
        "colab": {}
      },
      "source": [
        ""
      ],
      "execution_count": 0,
      "outputs": []
    },
    {
      "cell_type": "markdown",
      "metadata": {
        "id": "Lrw5NyN3UdiX",
        "colab_type": "text"
      },
      "source": [
        "## Task 6: Load the Dataset and Pre-trained Model"
      ]
    },
    {
      "cell_type": "code",
      "metadata": {
        "id": "EqDWtAneUdiX",
        "colab_type": "code",
        "colab": {}
      },
      "source": [
        "x_train_n, x_train_down= train_batches(just_load_dataset=True)"
      ],
      "execution_count": 0,
      "outputs": []
    },
    {
      "cell_type": "code",
      "metadata": {
        "id": "jYbTeSyOUdib",
        "colab_type": "code",
        "colab": {}
      },
      "source": [
        "autoencoder.load_weights(filepath)"
      ],
      "execution_count": 0,
      "outputs": []
    },
    {
      "cell_type": "markdown",
      "metadata": {
        "id": "W-WLxCymUdig",
        "colab_type": "text"
      },
      "source": [
        "## Task 7: Model Predictions and Visualizing the Results"
      ]
    },
    {
      "cell_type": "code",
      "metadata": {
        "id": "qOhbMZmjUdih",
        "colab_type": "code",
        "colab": {}
      },
      "source": [
        "encoder.load_weights(encoder weight filepath)"
      ],
      "execution_count": 0,
      "outputs": []
    },
    {
      "cell_type": "code",
      "metadata": {
        "id": "zo8JILEMUdik",
        "colab_type": "code",
        "colab": {}
      },
      "source": [
        "encoded_imgs= encoder.pridect(x_train_down)"
      ],
      "execution_count": 0,
      "outputs": []
    },
    {
      "cell_type": "code",
      "metadata": {
        "id": "Uckef5FrUdio",
        "colab_type": "code",
        "colab": {}
      },
      "source": [
        "encoded_imgs.shape"
      ],
      "execution_count": 0,
      "outputs": []
    },
    {
      "cell_type": "code",
      "metadata": {
        "id": "s1myuik8Udiu",
        "colab_type": "code",
        "colab": {}
      },
      "source": [
        "srl= np.clip(autoencoder.pridict(img_train_down),0.0, 1.0)"
      ],
      "execution_count": 0,
      "outputs": []
    },
    {
      "cell_type": "code",
      "metadata": {
        "id": "LN8sdmcnUdiy",
        "colab_type": "code",
        "colab": {}
      },
      "source": [
        "img_index= np.random.randint(0, 256)"
      ],
      "execution_count": 0,
      "outputs": []
    },
    {
      "cell_type": "code",
      "metadata": {
        "id": "5dCdS0SIUdi2",
        "colab_type": "code",
        "colab": {}
      },
      "source": [
        "plt.figure(figsize=(128, 128))\n",
        "i=1\n",
        "ax= plt.subplot(10, 10, i)\n",
        "plt.imshow(x_train_down[img_index])\n",
        "i+=1\n",
        "ax= plt.subplot(10, 10, i)\n",
        "plt.imshow(x_train_down[img_index], interpolation= 'bicubic')\n",
        "i+=1\n",
        "ax= plt.subplot(10, 10, i)\n",
        "plt.imshow(encoded_imgs[img_index].reshape(64*64, 256))\n",
        "i+=1\n",
        "ax= plt.subplot(10, 10, i)\n",
        "plt.imshow(srl[img_index])\n",
        "i+=1\n",
        "ax= plt.subplot(10, 10, i)\n",
        "plt.imshow(x_train_n[img_index])\n",
        "plt.show()"
      ],
      "execution_count": 0,
      "outputs": []
    },
    {
      "cell_type": "code",
      "metadata": {
        "id": "0l_M6QspUdi5",
        "colab_type": "code",
        "colab": {}
      },
      "source": [
        ""
      ],
      "execution_count": 0,
      "outputs": []
    }
  ]
}